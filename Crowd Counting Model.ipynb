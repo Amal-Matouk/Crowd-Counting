{
 "cells": [
  {
   "cell_type": "code",
   "execution_count": 1,
   "metadata": {
    "collapsed": true,
    "pycharm": {
     "is_executing": false
    }
   },
   "outputs": [],
   "source": [
    "import torch\n",
    "import os\n",
    "import numpy as np\n",
    "import PIL \n",
    "import cv2\n",
    "from models import M_SegNet_UCF_QNRF\n"
   ]
  },
  {
   "cell_type": "code",
   "execution_count": 2,
   "outputs": [
    {
     "data": {
      "text/plain": "Model(\n  (vgg): VGG(\n    (pool): MaxPool2d(kernel_size=2, stride=2, padding=0, dilation=1, ceil_mode=False)\n    (conv1_1): BaseConv(\n      (activation): ReLU(inplace=True)\n      (conv): Conv2d(3, 64, kernel_size=(3, 3), stride=(1, 1), padding=(1, 1))\n    )\n    (conv1_2): BaseConv(\n      (activation): ReLU(inplace=True)\n      (conv): Conv2d(64, 64, kernel_size=(3, 3), stride=(1, 1), padding=(1, 1))\n    )\n    (conv2_1): BaseConv(\n      (activation): ReLU(inplace=True)\n      (conv): Conv2d(64, 128, kernel_size=(3, 3), stride=(1, 1), padding=(1, 1))\n    )\n    (conv2_2): BaseConv(\n      (activation): ReLU(inplace=True)\n      (conv): Conv2d(128, 128, kernel_size=(3, 3), stride=(1, 1), padding=(1, 1))\n    )\n    (conv3_1): BaseConv(\n      (activation): ReLU(inplace=True)\n      (conv): Conv2d(128, 256, kernel_size=(3, 3), stride=(1, 1), padding=(1, 1))\n    )\n    (conv3_2): BaseConv(\n      (activation): ReLU(inplace=True)\n      (conv): Conv2d(256, 256, kernel_size=(3, 3), stride=(1, 1), padding=(1, 1))\n    )\n    (conv3_3): BaseConv(\n      (activation): ReLU(inplace=True)\n      (conv): Conv2d(256, 256, kernel_size=(3, 3), stride=(1, 1), padding=(1, 1))\n    )\n    (conv3_4): BaseConv(\n      (activation): ReLU(inplace=True)\n      (conv): Conv2d(256, 256, kernel_size=(3, 3), stride=(1, 1), padding=(1, 1))\n    )\n    (conv4_1): BaseConv(\n      (activation): ReLU(inplace=True)\n      (conv): Conv2d(256, 512, kernel_size=(3, 3), stride=(1, 1), padding=(1, 1))\n    )\n    (conv4_2): BaseConv(\n      (activation): ReLU(inplace=True)\n      (conv): Conv2d(512, 512, kernel_size=(3, 3), stride=(1, 1), padding=(1, 1))\n    )\n    (conv4_3): BaseConv(\n      (activation): ReLU(inplace=True)\n      (conv): Conv2d(512, 512, kernel_size=(3, 3), stride=(1, 1), padding=(1, 1))\n    )\n    (conv4_4): BaseConv(\n      (activation): ReLU(inplace=True)\n      (conv): Conv2d(512, 512, kernel_size=(3, 3), stride=(1, 1), padding=(1, 1))\n    )\n    (conv5_1): BaseConv(\n      (activation): ReLU(inplace=True)\n      (conv): Conv2d(512, 512, kernel_size=(3, 3), stride=(1, 1), padding=(1, 1))\n    )\n    (conv5_2): BaseConv(\n      (activation): ReLU(inplace=True)\n      (conv): Conv2d(512, 512, kernel_size=(3, 3), stride=(1, 1), padding=(1, 1))\n    )\n    (conv5_3): BaseConv(\n      (activation): ReLU(inplace=True)\n      (conv): Conv2d(512, 512, kernel_size=(3, 3), stride=(1, 1), padding=(1, 1))\n    )\n    (conv5_4): BaseConv(\n      (activation): ReLU(inplace=True)\n      (conv): Conv2d(512, 512, kernel_size=(3, 3), stride=(1, 1), padding=(1, 1))\n    )\n  )\n  (dmp): BackEnd(\n    (conv1): BaseConv(\n      (activation): ReLU(inplace=True)\n      (conv): Conv2d(896, 256, kernel_size=(1, 1), stride=(1, 1))\n    )\n    (conv2): BaseConv(\n      (activation): ReLU(inplace=True)\n      (conv): Conv2d(256, 256, kernel_size=(3, 3), stride=(1, 1), padding=(1, 1))\n    )\n    (conv3): BaseConv(\n      (activation): ReLU(inplace=True)\n      (conv): Conv2d(384, 128, kernel_size=(1, 1), stride=(1, 1))\n    )\n    (conv4): BaseConv(\n      (activation): ReLU(inplace=True)\n      (conv): Conv2d(128, 128, kernel_size=(3, 3), stride=(1, 1), padding=(1, 1))\n    )\n    (conv5): BaseConv(\n      (activation): ReLU(inplace=True)\n      (conv): Conv2d(192, 64, kernel_size=(1, 1), stride=(1, 1))\n    )\n    (conv6): BaseConv(\n      (activation): ReLU(inplace=True)\n      (conv): Conv2d(64, 64, kernel_size=(3, 3), stride=(1, 1), padding=(1, 1))\n    )\n    (conv7): BaseConv(\n      (activation): ReLU(inplace=True)\n      (conv): Conv2d(64, 32, kernel_size=(3, 3), stride=(1, 1), padding=(1, 1))\n    )\n    (reg_layer): Sequential(\n      (0): Conv2d(512, 256, kernel_size=(3, 3), stride=(1, 1), padding=(1, 1))\n      (1): ReLU(inplace=True)\n      (2): Conv2d(256, 128, kernel_size=(3, 3), stride=(1, 1), padding=(1, 1))\n      (3): ReLU(inplace=True)\n    )\n  )\n  (conv_out): BaseConv(\n    (conv): Conv2d(32, 1, kernel_size=(1, 1), stride=(1, 1))\n  )\n)"
     },
     "metadata": {},
     "output_type": "execute_result",
     "execution_count": 2
    }
   ],
   "source": [
    "model = M_SegNet_UCF_QNRF.Model()\n",
    "device = torch.device(\"cuda\" if torch.cuda.is_available() else \"cpu\")\n",
    "model.to(device)"
   ],
   "metadata": {
    "collapsed": false,
    "pycharm": {
     "name": "#%%\n",
     "is_executing": false
    }
   }
  },
  {
   "cell_type": "code",
   "execution_count": 3,
   "outputs": [
    {
     "data": {
      "text/plain": "<All keys matched successfully>"
     },
     "metadata": {},
     "output_type": "execute_result",
     "execution_count": 3
    }
   ],
   "source": [
    "model.load_state_dict(torch.load('weights/best_M-SegNet__UCF_QNRF.pth', device))\n"
   ],
   "metadata": {
    "collapsed": false,
    "pycharm": {
     "name": "#%%\n",
     "is_executing": false
    }
   }
  },
  {
   "cell_type": "code",
   "execution_count": 4,
   "outputs": [],
   "source": [
    "def create_img_test(path):\n",
    "  from PIL import Image\n",
    "    #Function to load,normalize and return image \n",
    "  print(path)\n",
    "  im = Image.open(path).convert('RGB')\n",
    "  im = im.resize((1280,960), Image.ANTIALIAS)\n",
    "  im = np.array(im)\n",
    "  \n",
    "  im = im/255.0\n",
    "  \n",
    "  im[:,:,0]=(im[:,:,0]-0.485)/0.229\n",
    "  im[:,:,1]=(im[:,:,1]-0.456)/0.224\n",
    "  im[:,:,2]=(im[:,:,2]-0.406)/0.225\n",
    "\n",
    "\n",
    " \n",
    "  return im\n",
    "\n",
    "def create_img(path):\n",
    "  #Function to load,normalize and return image \n",
    "  img =   PIL.Image.open(path).convert('RGB')\n",
    "  height, width = img.size[1], img.size[0]\n",
    "  height = round(height / 16) * 16\n",
    "  width = round(width / 16) * 16\n",
    "  img = cv2.resize(np.array(img), (width,height), cv2.INTER_CUBIC)\n",
    "\n",
    "  return img"
   ],
   "metadata": {
    "collapsed": false,
    "pycharm": {
     "name": "#%%\n",
     "is_executing": false
    }
   }
  },
  {
   "cell_type": "code",
   "execution_count": 10,
   "outputs": [],
   "source": [
    "def get_result(inp):\n",
    "  model.eval()\n",
    "  outs = model(inp.unsqueeze_(0))\n",
    "  output = torch.sum(outs).item()\n",
    "  return output"
   ],
   "metadata": {
    "collapsed": false,
    "pycharm": {
     "name": "#%%\n",
     "is_executing": false
    }
   }
  },
  {
   "cell_type": "code",
   "execution_count": 11,
   "outputs": [
    {
     "name": "stdout",
     "text": [
      "(480, 704, 3)\n",
      "(3, 480, 704)\n",
      "227.55734252929688\n"
     ],
     "output_type": "stream"
    },
    {
     "name": "stderr",
     "text": [
      "f:\\pycharmprojects\\aisocietyprojects\\crowdcounting\\venv\\lib\\site-packages\\torch\\nn\\functional.py:2577: UserWarning: nn.functional.upsample_bilinear is deprecated. Use nn.functional.interpolate instead.\n",
      "  warnings.warn(\"nn.functional.upsample_bilinear is deprecated. Use nn.functional.interpolate instead.\")\n"
     ],
     "output_type": "stream"
    }
   ],
   "source": [
    "img = create_img('image.png')\n",
    "\n",
    "print(img.shape)\n",
    "img = img.transpose(2,0,1)\n",
    "#width,height,channels\n",
    "#channels,width,height\n",
    "print(img.shape)\n",
    "inp = torch.from_numpy(img)\n",
    "inp = inp.to(device=device)\n",
    "inp = inp.to(torch.float32)\n",
    "inp.shape\n",
    "print(get_result(inp))\n",
    "\n",
    "\n",
    "\n",
    "\n",
    "\n",
    "\n"
   ],
   "metadata": {
    "collapsed": false,
    "pycharm": {
     "name": "#%%\n",
     "is_executing": false
    }
   }
  }
 ],
 "metadata": {
  "kernelspec": {
   "display_name": "Python 3",
   "language": "python",
   "name": "python3"
  },
  "language_info": {
   "codemirror_mode": {
    "name": "ipython",
    "version": 2
   },
   "file_extension": ".py",
   "mimetype": "text/x-python",
   "name": "python",
   "nbconvert_exporter": "python",
   "pygments_lexer": "ipython2",
   "version": "2.7.6"
  },
  "pycharm": {
   "stem_cell": {
    "cell_type": "raw",
    "source": [],
    "metadata": {
     "collapsed": false
    }
   }
  }
 },
 "nbformat": 4,
 "nbformat_minor": 0
}